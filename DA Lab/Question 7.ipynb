{
 "cells": [
  {
   "cell_type": "markdown",
   "id": "622dc414-2766-4328-9db0-cf30915ade5c",
   "metadata": {},
   "source": [
    "# Question 7"
   ]
  },
  {
   "cell_type": "code",
   "execution_count": 2,
   "id": "6d48e675-303d-43c6-b3bf-d3a8ca69c72b",
   "metadata": {},
   "outputs": [],
   "source": [
    "import numpy as np\n",
    "import pandas as pd"
   ]
  },
  {
   "cell_type": "markdown",
   "id": "a71ddfbe-10e6-469d-9277-899d6ea9c213",
   "metadata": {},
   "source": [
    "### I. Numpy"
   ]
  },
  {
   "cell_type": "markdown",
   "id": "33f8fbd3-8d6d-42a4-b42c-bf389195c875",
   "metadata": {},
   "source": [
    "#### 1. Count no of positive integers in given numpy array."
   ]
  },
  {
   "cell_type": "code",
   "execution_count": 3,
   "id": "e1abd3b4-f342-4a66-9d34-141f0cd6df5f",
   "metadata": {},
   "outputs": [
    {
     "name": "stdout",
     "output_type": "stream",
     "text": [
      "Array: [-4  2  0  5 -1  6]\n",
      "Number of positive integers in the array: 3\n"
     ]
    }
   ],
   "source": [
    "arr = np.array([-4, 2, 0, 5, -1, 6])\n",
    "print(f\"Array: {arr}\")\n",
    "\n",
    "positive_count = np.sum(arr > 0)\n",
    "print(f\"Number of positive integers in the array: {positive_count}\")"
   ]
  },
  {
   "cell_type": "markdown",
   "id": "7de8692a-bfa7-475c-ab37-8e1c5e74a737",
   "metadata": {},
   "source": [
    "#### 2. Convert array elements into lowercase, uppercase, capitalize, title, swapcases."
   ]
  },
  {
   "cell_type": "code",
   "execution_count": 4,
   "id": "4f72e7ea-8f9e-422d-bdc2-055184770a1e",
   "metadata": {},
   "outputs": [
    {
     "name": "stdout",
     "output_type": "stream",
     "text": [
      "['hello world' '123 mixed case' 'python']\n",
      "['HELLO WORLD' '123 MIXED CASE' 'PYTHON']\n",
      "['Hello world' '123 mixed case' 'Python']\n",
      "['Hello World' '123 Mixed Case' 'Python']\n",
      "['hElLo wOrLd' '123 MIxEd cAsE' 'python']\n"
     ]
    }
   ],
   "source": [
    "arr = np.array(['HeLlO WoRlD', '123 miXeD CaSe', 'PYTHON'])\n",
    "\n",
    "lower_arr = np.char.lower(arr)\n",
    "print(lower_arr)\n",
    "\n",
    "upper_arr = np.char.upper(arr)\n",
    "print(upper_arr)\n",
    "\n",
    "capitalize_arr = np.char.capitalize(arr)\n",
    "print(capitalize_arr)\n",
    "\n",
    "title_arr = np.char.title(arr)\n",
    "print(title_arr)\n",
    "\n",
    "swapcase_arr = np.char.swapcase(arr)\n",
    "print(swapcase_arr)"
   ]
  },
  {
   "cell_type": "markdown",
   "id": "4fc447e8-0d94-4c26-b872-152d763d56ee",
   "metadata": {},
   "source": [
    "#### 3. Insert the spaces between elements of the given array in numpy."
   ]
  },
  {
   "cell_type": "code",
   "execution_count": 7,
   "id": "bae60ae7-5075-4f03-b651-6922353ee300",
   "metadata": {},
   "outputs": [
    {
     "name": "stdout",
     "output_type": "stream",
     "text": [
      "['a p p l e' 'b a n a n a' 'c h e r r y']\n"
     ]
    }
   ],
   "source": [
    "arr = np.array(['apple', 'banana', 'cherry'])\n",
    "\n",
    "spaced_arr = np.char.join(\" \", arr)\n",
    "print(spaced_arr)"
   ]
  },
  {
   "cell_type": "markdown",
   "id": "15806414-a690-468c-a2a8-c31ff53e2088",
   "metadata": {},
   "source": [
    "### II. Pandas"
   ]
  },
  {
   "cell_type": "markdown",
   "id": "0447f6ca-cdff-454b-a937-867097812faa",
   "metadata": {},
   "source": [
    "#### 1. Print the columns having atleast one null value in dataframe."
   ]
  },
  {
   "cell_type": "code",
   "execution_count": 19,
   "id": "788fc850-0972-4a86-a527-2a6e2b57f529",
   "metadata": {},
   "outputs": [
    {
     "data": {
      "text/html": [
       "<div>\n",
       "<style scoped>\n",
       "    .dataframe tbody tr th:only-of-type {\n",
       "        vertical-align: middle;\n",
       "    }\n",
       "\n",
       "    .dataframe tbody tr th {\n",
       "        vertical-align: top;\n",
       "    }\n",
       "\n",
       "    .dataframe thead th {\n",
       "        text-align: right;\n",
       "    }\n",
       "</style>\n",
       "<table border=\"1\" class=\"dataframe\">\n",
       "  <thead>\n",
       "    <tr style=\"text-align: right;\">\n",
       "      <th></th>\n",
       "      <th>col1</th>\n",
       "      <th>col2</th>\n",
       "      <th>col3</th>\n",
       "    </tr>\n",
       "  </thead>\n",
       "  <tbody>\n",
       "    <tr>\n",
       "      <th>0</th>\n",
       "      <td>1.0</td>\n",
       "      <td>a</td>\n",
       "      <td>True</td>\n",
       "    </tr>\n",
       "    <tr>\n",
       "      <th>1</th>\n",
       "      <td>NaN</td>\n",
       "      <td>b</td>\n",
       "      <td>False</td>\n",
       "    </tr>\n",
       "    <tr>\n",
       "      <th>2</th>\n",
       "      <td>3.0</td>\n",
       "      <td>c</td>\n",
       "      <td>NaN</td>\n",
       "    </tr>\n",
       "    <tr>\n",
       "      <th>3</th>\n",
       "      <td>4.0</td>\n",
       "      <td>d</td>\n",
       "      <td>True</td>\n",
       "    </tr>\n",
       "  </tbody>\n",
       "</table>\n",
       "</div>"
      ],
      "text/plain": [
       "   col1 col2   col3\n",
       "0   1.0    a   True\n",
       "1   NaN    b  False\n",
       "2   3.0    c    NaN\n",
       "3   4.0    d   True"
      ]
     },
     "metadata": {},
     "output_type": "display_data"
    },
    {
     "name": "stdout",
     "output_type": "stream",
     "text": [
      "Columns with at least one null value (Option 1): Index(['col1', 'col3'], dtype='object')\n"
     ]
    }
   ],
   "source": [
    "df = pd.DataFrame({'col1': [1, np.NAN, 3, 4],\n",
    "                   'col2': ['a', 'b', 'c', 'd'],\n",
    "                   'col3': [True, False, np.NAN, True]})\n",
    "display(df)\n",
    "\n",
    "null_columns = df.columns[df.isnull().any()]\n",
    "print(\"Columns with at least one null value (Option 1):\", null_columns)"
   ]
  },
  {
   "cell_type": "markdown",
   "id": "8ca0444a-0b34-4b9b-9181-fd6a978882f5",
   "metadata": {},
   "source": [
    "#### 2. Join two data frames along rows( have to use join only)."
   ]
  },
  {
   "cell_type": "code",
   "execution_count": 32,
   "id": "7b60bc2d-4a3d-4c2a-9cc1-13c550e1666e",
   "metadata": {},
   "outputs": [
    {
     "data": {
      "text/html": [
       "<div>\n",
       "<style scoped>\n",
       "    .dataframe tbody tr th:only-of-type {\n",
       "        vertical-align: middle;\n",
       "    }\n",
       "\n",
       "    .dataframe tbody tr th {\n",
       "        vertical-align: top;\n",
       "    }\n",
       "\n",
       "    .dataframe thead th {\n",
       "        text-align: right;\n",
       "    }\n",
       "</style>\n",
       "<table border=\"1\" class=\"dataframe\">\n",
       "  <thead>\n",
       "    <tr style=\"text-align: right;\">\n",
       "      <th></th>\n",
       "      <th>col1</th>\n",
       "      <th>col2</th>\n",
       "      <th>col3</th>\n",
       "      <th>col4</th>\n",
       "    </tr>\n",
       "  </thead>\n",
       "  <tbody>\n",
       "    <tr>\n",
       "      <th>0</th>\n",
       "      <td>1</td>\n",
       "      <td>a</td>\n",
       "      <td>4</td>\n",
       "      <td>d</td>\n",
       "    </tr>\n",
       "    <tr>\n",
       "      <th>1</th>\n",
       "      <td>2</td>\n",
       "      <td>b</td>\n",
       "      <td>5</td>\n",
       "      <td>e</td>\n",
       "    </tr>\n",
       "    <tr>\n",
       "      <th>2</th>\n",
       "      <td>3</td>\n",
       "      <td>c</td>\n",
       "      <td>6</td>\n",
       "      <td>f</td>\n",
       "    </tr>\n",
       "  </tbody>\n",
       "</table>\n",
       "</div>"
      ],
      "text/plain": [
       "   col1 col2  col3 col4\n",
       "0     1    a     4    d\n",
       "1     2    b     5    e\n",
       "2     3    c     6    f"
      ]
     },
     "metadata": {},
     "output_type": "display_data"
    }
   ],
   "source": [
    "df1 = pd.DataFrame({'col1': [1, 2, 3], 'col2': ['a', 'b', 'c']})\n",
    "df2 = pd.DataFrame({'col3': [4, 5, 6], 'col4': ['d', 'e', 'f']})\n",
    "\n",
    "display(df1.join(df2, how=\"outer\"))"
   ]
  },
  {
   "cell_type": "markdown",
   "id": "49f1d168-800f-4409-8b71-dc118c36656b",
   "metadata": {},
   "source": [
    "#### 3. Compare two pandas series equal or not."
   ]
  },
  {
   "cell_type": "code",
   "execution_count": 33,
   "id": "161fa2bc-e188-40a7-8965-686e53f4b629",
   "metadata": {},
   "outputs": [
    {
     "name": "stdout",
     "output_type": "stream",
     "text": [
      "s1 and s2 are equal: True\n",
      "s1 and s3 are equal: False\n"
     ]
    }
   ],
   "source": [
    "s1 = pd.Series([1, 2, 3])\n",
    "s2 = pd.Series([1, 2, 3])\n",
    "s3 = pd.Series([1, 2, 4])\n",
    "\n",
    "equal_s1_s2 = s1.equals(s2)\n",
    "equal_s1_s3 = s1.equals(s3)\n",
    "\n",
    "print(f\"s1 and s2 are equal: {equal_s1_s2}\")\n",
    "print(f\"s1 and s3 are equal: {equal_s1_s3}\")"
   ]
  },
  {
   "cell_type": "markdown",
   "id": "1f687b03-eee8-4988-8072-6e8d6fab7224",
   "metadata": {},
   "source": [
    "### III. IRIS Dataset"
   ]
  }
 ],
 "metadata": {
  "kernelspec": {
   "display_name": "Python 3 (ipykernel)",
   "language": "python",
   "name": "python3"
  },
  "language_info": {
   "codemirror_mode": {
    "name": "ipython",
    "version": 3
   },
   "file_extension": ".py",
   "mimetype": "text/x-python",
   "name": "python",
   "nbconvert_exporter": "python",
   "pygments_lexer": "ipython3",
   "version": "3.8.10"
  }
 },
 "nbformat": 4,
 "nbformat_minor": 5
}
