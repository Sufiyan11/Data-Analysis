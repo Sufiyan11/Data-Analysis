{
 "cells": [
  {
   "cell_type": "markdown",
   "id": "31fd8640-15d6-426f-8dfa-8149d79bb057",
   "metadata": {},
   "source": [
    "# Question 6"
   ]
  },
  {
   "cell_type": "code",
   "execution_count": 2,
   "id": "fc2383ea-afd1-4aa9-81c8-d8bd3e7a7718",
   "metadata": {},
   "outputs": [],
   "source": [
    "import numpy as np\n",
    "import pandas as pd"
   ]
  },
  {
   "cell_type": "markdown",
   "id": "c0d2c036-163d-44b4-b15a-cc591328245b",
   "metadata": {},
   "source": [
    "### I. Numpy"
   ]
  },
  {
   "cell_type": "markdown",
   "id": "ac626ee4-b64d-40ad-8333-dfb24309361c",
   "metadata": {},
   "source": [
    "#### 1. How to randomly place 'P' element in a 2D matrix."
   ]
  },
  {
   "cell_type": "code",
   "execution_count": 36,
   "id": "bfef0c85-db73-4ca0-b8b1-c89169d8a843",
   "metadata": {},
   "outputs": [
    {
     "name": "stdout",
     "output_type": "stream",
     "text": [
      "[[0 0 0]\n",
      " [0 0 0]\n",
      " [0 0 0]]\n",
      "[[0 0 5]\n",
      " [0 0 0]\n",
      " [0 0 0]]\n"
     ]
    }
   ],
   "source": [
    "matrix = np.zeros([3,3], dtype=int)\n",
    "print(matrix)\n",
    "\n",
    "x = np.random.randint(0, matrix.shape[0])\n",
    "y = np.random.randint(0, matrix.shape[1])\n",
    "\n",
    "P = 5\n",
    "matrix[x][y] = P\n",
    "print(matrix)"
   ]
  },
  {
   "cell_type": "markdown",
   "id": "efe52de1-8042-4a30-9d0a-a22034cc767c",
   "metadata": {},
   "source": [
    "#### 2. How to subtract the mean of each row of a matrix."
   ]
  },
  {
   "cell_type": "code",
   "execution_count": 43,
   "id": "1cdb964f-6ac4-44a7-8bd3-3e1631289655",
   "metadata": {},
   "outputs": [
    {
     "name": "stdout",
     "output_type": "stream",
     "text": [
      "Original Array:\n",
      "[[1 8 3]\n",
      " [4 5 9]\n",
      " [6 2 7]]\n",
      "\n",
      "Array after subtracting the mean of each row:\n",
      "[[-3.  4. -1.]\n",
      " [-2. -1.  3.]\n",
      " [ 1. -3.  2.]]\n"
     ]
    }
   ],
   "source": [
    "def subtract_row_mean(array):\n",
    "    return array - np.mean(array, axis=1, keepdims=True)\n",
    "\n",
    "array = np.array([[1, 8, 3], [4, 5, 9], [6, 2, 7]])\n",
    "\n",
    "result_array = subtract_row_mean(array)\n",
    "\n",
    "print(\"Original Array:\")\n",
    "print(array)\n",
    "\n",
    "print(\"\\nArray after subtracting the mean of each row:\")\n",
    "print(result_array)"
   ]
  },
  {
   "cell_type": "markdown",
   "id": "d6150b2f-b132-4795-a088-2a1b073680e1",
   "metadata": {},
   "source": [
    "#### 3. How to sort an array by the nth column."
   ]
  },
  {
   "cell_type": "code",
   "execution_count": 46,
   "id": "40b3400c-3b7b-41b8-9ad6-2db9ac66aa06",
   "metadata": {},
   "outputs": [
    {
     "name": "stdout",
     "output_type": "stream",
     "text": [
      "[[15  2  9 11]\n",
      " [10 14  5  6]\n",
      " [ 8 18 19  7]\n",
      " [ 9  5 16  5]]\n"
     ]
    }
   ],
   "source": [
    "arr = np.random.randint(0,20, (4,4))\n",
    "print(arr)"
   ]
  },
  {
   "cell_type": "code",
   "execution_count": 52,
   "id": "2bf48999-4b76-4477-8264-fa6043c982aa",
   "metadata": {},
   "outputs": [
    {
     "name": "stdout",
     "output_type": "stream",
     "text": [
      "[[15  2  9 11]\n",
      " [ 9  5 16  5]\n",
      " [10 14  5  6]\n",
      " [ 8 18 19  7]]\n"
     ]
    }
   ],
   "source": [
    "n = 1\n",
    "\n",
    "print(arr[arr[:, n].argsort()])"
   ]
  },
  {
   "cell_type": "markdown",
   "id": "c3120d02-6902-4d48-a44e-600c2d047640",
   "metadata": {},
   "source": [
    "### II. Pandas"
   ]
  },
  {
   "cell_type": "markdown",
   "id": "d0c0e85a-4990-4469-91ba-82a8b44ecbcc",
   "metadata": {},
   "source": [
    "#### 1. Get the items of series A not present in series B."
   ]
  },
  {
   "cell_type": "code",
   "execution_count": null,
   "id": "183c899c-d456-48d0-900e-7dc6e341b797",
   "metadata": {},
   "outputs": [],
   "source": []
  },
  {
   "cell_type": "markdown",
   "id": "45cb51cf-f4e6-4fcd-b100-5af10efe3d28",
   "metadata": {},
   "source": [
    "#### 2. Drop the rows where atleast one element is missing in a dataframe."
   ]
  },
  {
   "cell_type": "code",
   "execution_count": null,
   "id": "9791fe14-8219-444a-84c0-21b8179cbafc",
   "metadata": {},
   "outputs": [],
   "source": []
  },
  {
   "cell_type": "markdown",
   "id": "d54dfc5b-7349-4b52-b899-697e839da312",
   "metadata": {},
   "source": [
    "#### 3. List unique value in a pandas dataframe."
   ]
  },
  {
   "cell_type": "code",
   "execution_count": null,
   "id": "28bc57fa-4578-4714-9ef5-147abcdcc94a",
   "metadata": {},
   "outputs": [],
   "source": []
  },
  {
   "cell_type": "markdown",
   "id": "e3e90207-6b7a-4c17-8160-062176cd1f4c",
   "metadata": {},
   "source": [
    "### III. Avocado Dataset"
   ]
  },
  {
   "cell_type": "markdown",
   "id": "8aecaa04-2c43-4709-ac13-24b956609d1d",
   "metadata": {},
   "source": [
    "#### 1. Find the correlation matrix to measure the strength of the correlation between variables."
   ]
  },
  {
   "cell_type": "code",
   "execution_count": null,
   "id": "94f37d3a-bc76-49cf-b4ac-3c897bf9b5e2",
   "metadata": {},
   "outputs": [],
   "source": []
  },
  {
   "cell_type": "markdown",
   "id": "d1cf1d70-6a12-4a1c-a54b-57cdac4401c1",
   "metadata": {},
   "source": [
    "#### 2. Find out the volume of avocado sales has increased in the last 5 years."
   ]
  },
  {
   "cell_type": "code",
   "execution_count": null,
   "id": "b004313a-dc4f-4201-8fb5-cf37275ac93a",
   "metadata": {},
   "outputs": [],
   "source": []
  },
  {
   "cell_type": "markdown",
   "id": "20e89422-280a-4b2a-bc55-e577348fd61d",
   "metadata": {},
   "source": [
    "#### 3. Find the highest,lowest price for conventional avocado’s in year with location. Show the graph."
   ]
  },
  {
   "cell_type": "code",
   "execution_count": null,
   "id": "c291e644-1fca-4945-8fba-0d84d9b3afc5",
   "metadata": {},
   "outputs": [],
   "source": []
  },
  {
   "cell_type": "markdown",
   "id": "58934e70-55c1-4f12-bbb6-2ecbe5bb946f",
   "metadata": {},
   "source": [
    "#### 4. Find the correlation matrix to measure the strength of the correlation between variables."
   ]
  },
  {
   "cell_type": "code",
   "execution_count": null,
   "id": "f101cf12-7284-4de9-8530-e7c0c9c31253",
   "metadata": {},
   "outputs": [],
   "source": []
  }
 ],
 "metadata": {
  "kernelspec": {
   "display_name": "Python 3 (ipykernel)",
   "language": "python",
   "name": "python3"
  },
  "language_info": {
   "codemirror_mode": {
    "name": "ipython",
    "version": 3
   },
   "file_extension": ".py",
   "mimetype": "text/x-python",
   "name": "python",
   "nbconvert_exporter": "python",
   "pygments_lexer": "ipython3",
   "version": "3.8.10"
  }
 },
 "nbformat": 4,
 "nbformat_minor": 5
}
